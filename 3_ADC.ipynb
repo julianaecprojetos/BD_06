{
 "cells": [
  {
   "cell_type": "code",
   "execution_count": 1,
   "metadata": {},
   "outputs": [],
   "source": [
    "import os\n",
    "import shutil\n",
    "from pathlib import Path"
   ]
  },
  {
   "cell_type": "code",
   "execution_count": null,
   "metadata": {},
   "outputs": [
    {
     "name": "stdout",
     "output_type": "stream",
     "text": [
      "['dados/ADC\\\\sbac_adc-sbac_adc_20231102.pdf', 'dados/ADC\\\\sbaf_adc-sbaf_adc_20240808.pdf', 'dados/ADC\\\\sban_adc-sban_adc_20241226.pdf', 'dados/ADC\\\\sbaq_adc-sbaq_adc_20241226.pdf', 'dados/ADC\\\\sbar_adc-sbar_adc_20240125.pdf', 'dados/ADC\\\\sbat_adc-sbat_adc_20240905.pdf', 'dados/ADC\\\\sbau_adc-sbau_adc_20230615.pdf', 'dados/ADC\\\\sbax_adc-sbax_adc_20240222.pdf', 'dados/ADC\\\\sbbe_adc-sbbe_adc_20240711 (1).pdf', 'dados/ADC\\\\sbbh_adc-sbbh_adc_20231005.pdf', 'dados/ADC\\\\sbbi_sbbi-adc-_adc_20250220.pdf', 'dados/ADC\\\\sbbq_adc_adc_20230615.pdf', 'dados/ADC\\\\sbbr_adc-sbbr_adc_20231102.pdf', 'dados/ADC\\\\sbbu_adc-sbbu_adc_20211007.pdf', 'dados/ADC\\\\sbbv_adc-sbbv_adc_20240418.pdf', 'dados/ADC\\\\sbbw_adc-sbbw_adc_20230615.pdf', 'dados/ADC\\\\sbca_sbca-adc_adc_20250320.pdf', 'dados/ADC\\\\sbcb_adc-sbcb_adc_20220616.pdf', 'dados/ADC\\\\sbcc_adc-sbcc_adc_20230615.pdf', 'dados/ADC\\\\sbcf_adc-sbcf_adc_20231228.pdf', 'dados/ADC\\\\sbcg_adc-sbcg_adc_20240905.pdf', 'dados/ADC\\\\sbch_adc-sbch_adc_20240613.pdf', 'dados/ADC\\\\sbci_adc-sbci_adc_20230518.pdf', 'dados/ADC\\\\sbcj_sbcj-adc_adc_20250123.pdf', 'dados/ADC\\\\sbcn_adc-sbcn_adc_20231005.pdf', 'dados/ADC\\\\sbco_sbco-adc_adc_20250320.pdf', 'dados/ADC\\\\sbcp_adc-sbcp_adc_20231102.pdf', 'dados/ADC\\\\sbcr_adc-sbcr_adc_20240808.pdf', 'dados/ADC\\\\sbct_adc-sbct_adc_20240516.pdf', 'dados/ADC\\\\sbcx_adc_adc_20211230.pdf', 'dados/ADC\\\\sbcy_adc-sbcy_adc_20240613.pdf', 'dados/ADC\\\\sbcz_adc-sbcz_adc_20240418.pdf', 'dados/ADC\\\\sbdb_adc-sbdb_adc_20220127.pdf', 'dados/ADC\\\\sbdn_adc-sbdn_adc_20241128.pdf', 'dados/ADC\\\\sbeg_adc-sbeg_adc_20221006.pdf', 'dados/ADC\\\\sbek_adc-sbek_adc_20221229.pdf', 'dados/ADC\\\\sbes_adc-sbes_adc_20240905.pdf', 'dados/ADC\\\\sbfi_sbfi-adc_adc_20250123.pdf', 'dados/ADC\\\\sbfl_sbfl-adc_adc_20240711 (1).pdf', 'dados/ADC\\\\sbfn_adc-sbfn_adc_20240222.pdf', 'dados/ADC\\\\sbfs_adc-sbfs_adc_20241031.pdf', 'dados/ADC\\\\sbfz_sbfz-adc_adc_20250320.pdf', 'dados/ADC\\\\sbgl_adc-sbgl_adc_20240905 (1).pdf', 'dados/ADC\\\\sbgl_adc-sbgl_adc_20240905.pdf', 'dados/ADC\\\\sbgo_adc-sbgo_adc_20240613.pdf', 'dados/ADC\\\\sbgr_adc-sbgr_adc_20240905 (1).pdf', 'dados/ADC\\\\sbgw_sbgw-adc_adc_20250320.pdf', 'dados/ADC\\\\sbht_sbht-adc_adc_20250320.pdf', 'dados/ADC\\\\sbil_adc-sbil_adc_20211007.pdf', 'dados/ADC\\\\sbip_adc-sbip_adc_20240516.pdf', 'dados/ADC\\\\sbit_sbit-adc_adc_20240418.pdf', 'dados/ADC\\\\sbiz_adc-sbiz_adc_20241226.pdf', 'dados/ADC\\\\sbja_-adc-sbja_adc_20230810.pdf', 'dados/ADC\\\\sbje_adc-sbje_adc_20231130.pdf', 'dados/ADC\\\\sbjf_adc-sbjf_adc_20240613.pdf', 'dados/ADC\\\\sbjp_adc-sbjp_adc_20240222.pdf', 'dados/ADC\\\\sbjr_adc-sbjr_adc_20200910 (1).pdf', 'dados/ADC\\\\sbju_adc-sbju_adc_20231228.pdf', 'dados/ADC\\\\sbjv_adc-sbjv_adc_20241031.pdf', 'dados/ADC\\\\sbkg_adc-sbkg_adc_20230907.pdf', 'dados/ADC\\\\sbkp_adc_adc_20230713.pdf', 'dados/ADC\\\\sblj_adc-sblj_adc_20220811.pdf', 'dados/ADC\\\\sblo_sblo-adc_adc_20250320.pdf', 'dados/ADC\\\\sblp_adc-sblp_adc_20210128.pdf', 'dados/ADC\\\\sbls_adc-sbls_adc_20240516.pdf', 'dados/ADC\\\\sbma_adc-sbma_adc_20210812.pdf', 'dados/ADC\\\\sbmd_adc-sbmd_adc_20201231.pdf', 'dados/ADC\\\\sbme_sbme-adc_adc_20250320.pdf', 'dados/ADC\\\\sbmg_sbmg-adc_adc_20250320.pdf', 'dados/ADC\\\\sbmk_adc-sbmk_adc_20241031.pdf', 'dados/ADC\\\\sbml_adc-sbml_adc_20230615.pdf', 'dados/ADC\\\\sbmn_adc-sbmn_adc_20241003.pdf', 'dados/ADC\\\\sbmo_adc-sbmo_adc_20240905.pdf', 'dados/ADC\\\\sbmq_sbmq-adc_adc_20250123.pdf', 'dados/ADC\\\\sbms_adc-sbms_adc_20240808.pdf', 'dados/ADC\\\\sbmt_adc-sbmt_adc_20240321.pdf', 'dados/ADC\\\\sbnf_adc-sbnf_adc_20241031.pdf', 'dados/ADC\\\\sbnm_adc-sbnm_adc_20240516.pdf', 'dados/ADC\\\\sbnt_adc-sbnt_adc_20241031.pdf', 'dados/ADC\\\\sbpa_adc-sbpa_adc_20230615.pdf', 'dados/ADC\\\\sbpb_adc-sbpb_adc_20250320.pdf', 'dados/ADC\\\\sbpj_sbpj-adc_adc_20240418.pdf', 'dados/ADC\\\\sbpk_sbpk-adc_adc_20241003.pdf', 'dados/ADC\\\\sbpl_adc-sbpl_adc_20250320.pdf', 'dados/ADC\\\\sbpp_adc-sbpp_adc_20230518.pdf', 'dados/ADC\\\\sbps_adc-sbps_adc_20240613.pdf', 'dados/ADC\\\\sbpv_sbpv-adc_adc_20240711.pdf', 'dados/ADC\\\\sbrb_adc-sbrb_adc_20240321.pdf', 'dados/ADC\\\\sbrd_adc-sbrd_adc_20240808.pdf', 'dados/ADC\\\\sbrf_sbrf-adc_adc_20241031.pdf', 'dados/ADC\\\\sbrj_adc-sbrj_adc_20221201 (1).pdf', 'dados/ADC\\\\sbrp_sbrp-adc_adc_20220519.pdf', 'dados/ADC\\\\sbsc_adc-sbsc_adc_20240905.pdf', 'dados/ADC\\\\sbsg_adc-sbsg_adc_20240516.pdf', 'dados/ADC\\\\sbsi_adc-sbsi_adc_20221006.pdf', 'dados/ADC\\\\sbsj_adc-sbsj_adc_20241128.pdf', 'dados/ADC\\\\sbsl_sbsl-adc_adc_20241226.pdf', 'dados/ADC\\\\sbsm_adc-sbsm_adc_20220908.pdf', 'dados/ADC\\\\sbsn_sbsn-adc_adc_20250220.pdf', 'dados/ADC\\\\sbso_adc-sbso_adc_20240222.pdf', 'dados/ADC\\\\sbsp_adc-sbsp_adc_20240418.pdf', 'dados/ADC\\\\sbsr_adc-sbsr_adc_20230518.pdf', 'dados/ADC\\\\sbst_adc-sbst_adc_20220908.pdf', 'dados/ADC\\\\sbsv_sbsv-adc_adc_20250123.pdf', 'dados/ADC\\\\sbta_sbta-adc_adc_20241031.pdf', 'dados/ADC\\\\sbtb_adc-sbtb_adc_20230518.pdf', 'dados/ADC\\\\sbtd_adc-sbtd_adc_20210812.pdf', 'dados/ADC\\\\sbte_adc-sbte_adc_20250320.pdf', 'dados/ADC\\\\sbtf_adc-sbtf_adc_20240613.pdf', 'dados/ADC\\\\sbts_adc-sbts_adc_20200716.pdf', 'dados/ADC\\\\sbtt_adc-sbtt_adc_20250320.pdf', 'dados/ADC\\\\sbua_adc-sbua_adc_20221103.pdf', 'dados/ADC\\\\sbuf_adc-sbuf_adc_20210812.pdf', 'dados/ADC\\\\sbug_sbug-adc_adc_20250123.pdf', 'dados/ADC\\\\sbul_-sbul-adc_adc_20240808.pdf', 'dados/ADC\\\\sbur_adc-sbur_adc_20241128.pdf', 'dados/ADC\\\\sbvc_sbvc-adc_adc_20231228.pdf', 'dados/ADC\\\\sbvh_adc-sbvh_adc_20240516.pdf', 'dados/ADC\\\\sbvt_adc-sbvt_adc_20230323.pdf', 'dados/ADC\\\\sbys_sbys-adc_adc_20240808.pdf', 'dados/ADC\\\\sbzm_adc-sbzm_adc_20200813.pdf', 'dados/ADC\\\\sncp_adc-sncp_adc_20240905.pdf', 'dados/ADC\\\\sndr_adc-sndr_adc_20230223.pdf', 'dados/ADC\\\\sngi_adc-sngi_adc_20211230.pdf', 'dados/ADC\\\\snpa_adc-snpa_adc_20231130.pdf', 'dados/ADC\\\\snxx_adc_adc_20220616.pdf', 'dados/ADC\\\\ssgg_adc-ssgg_adc_20200521.pdf', 'dados/ADC\\\\ssim_ssim-adc_adc_20240808.pdf', 'dados/ADC\\\\sskw_adc-sskw_adc_20230518.pdf', 'dados/ADC\\\\swuq_adc-swuq_adc_20220714.pdf']\n",
      "Número de PDFs encontrados: 130\n"
     ]
    }
   ],
   "source": [
    "# Caminhos principais\n",
    "pasta_base = Path(\"data/pdf/ADC\")         # Onde estão as pastas SBAC, SBGR, etc.\n",
    "pasta_destino = Path(\"data/pdf/ADC_v2\")   # Onde os PDFs finalizados ficarão\n",
    "pasta_destino.mkdir(parents=True, exist_ok=True)\n",
    "\n",
    "# Lista para log de cópias realizadas\n",
    "log_copiados = []\n",
    "\n",
    "# Percorre todas as subpastas recursivamente\n",
    "for root, dirs, files in os.walk(pasta_base):\n",
    "    arquivos_pdf = [f for f in files if f.lower().endswith(\".pdf\")]\n",
    "\n",
    "    if len(arquivos_pdf) == 1:\n",
    "        arquivo_pdf = arquivos_pdf[0]\n",
    "        caminho_pdf = Path(root) / arquivo_pdf\n",
    "\n",
    "        # Extrai o nome do aeródromo a partir da pasta 2 níveis acima\n",
    "        partes = Path(root).parts\n",
    "        if len(partes) >= 2:\n",
    "            nome_aerodromo = partes[-2]  # ex: SBAC\n",
    "        else:\n",
    "            nome_aerodromo = Path(arquivo_pdf).stem\n",
    "\n",
    "        # Define novo nome e caminho de destino\n",
    "        novo_nome = f\"{nome_aerodromo}.pdf\"\n",
    "        destino = pasta_destino / novo_nome\n",
    "\n",
    "        # Copia o PDF\n",
    "        shutil.copy(caminho_pdf, destino)\n",
    "        log_copiados.append((caminho_pdf, destino))\n",
    "        print(f\"✔️ Copiado: {caminho_pdf} → {destino}\")\n",
    "\n",
    "print(f\"\\nTotal de arquivos copiados: {len(log_copiados)}\")"
   ]
  }
 ],
 "metadata": {
  "kernelspec": {
   "display_name": "Python 3",
   "language": "python",
   "name": "python3"
  },
  "language_info": {
   "codemirror_mode": {
    "name": "ipython",
    "version": 3
   },
   "file_extension": ".py",
   "mimetype": "text/x-python",
   "name": "python",
   "nbconvert_exporter": "python",
   "pygments_lexer": "ipython3",
   "version": "3.12.9"
  }
 },
 "nbformat": 4,
 "nbformat_minor": 2
}
