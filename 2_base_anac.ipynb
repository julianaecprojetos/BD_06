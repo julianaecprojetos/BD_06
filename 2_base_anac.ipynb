{
 "cells": [
  {
   "cell_type": "code",
   "execution_count": 1,
   "metadata": {},
   "outputs": [
    {
     "name": "stdout",
     "output_type": "stream",
     "text": [
      "Requirement already satisfied: unidecode in c:\\users\\julia\\appdata\\local\\programs\\python\\python312\\lib\\site-packages (1.3.8)\n",
      "Note: you may need to restart the kernel to use updated packages.\n"
     ]
    },
    {
     "name": "stderr",
     "output_type": "stream",
     "text": [
      "\n",
      "[notice] A new release of pip is available: 24.3.1 -> 25.1.1\n",
      "[notice] To update, run: python.exe -m pip install --upgrade pip\n"
     ]
    }
   ],
   "source": [
    "%pip install unidecode\n",
    "from unidecode import unidecode\n",
    "import pandas as pd"
   ]
  },
  {
   "cell_type": "code",
   "execution_count": 2,
   "metadata": {},
   "outputs": [
    {
     "name": "stdout",
     "output_type": "stream",
     "text": [
      "0: CÓDIGO OACI\n",
      "1: CIAD\n",
      "2: NOME\n",
      "3: MUNICÍPIO ATENDIDO\n",
      "4: UF\n",
      "5: LATITUDE\n",
      "6: LONGITUDE\n",
      "7: ALTITUDE\n",
      "8: OPERAÇÃO\n",
      "9: DESIGNAÇÃO\n",
      "10: COMPRIMENTO\n",
      "11: LARGURA\n",
      "12: RESISTÊNCIA\n",
      "13: SUPERFÍCIE\n",
      "14: DESIGNAÇÃO.1\n",
      "15: COMPRIMENTO.1\n",
      "16: LARGURA.1\n",
      "17: RESISTÊNCIA.1\n",
      "18: SUPERFÍCIE.1\n",
      "19: DESIGNAÇÃO.2\n",
      "20: COMPRIMENTO.2\n",
      "21: LARGURA.2\n",
      "22: RESISTÊNCIA.2\n",
      "23: SUPERFÍCIE.2\n",
      "24: AERONAVE CRÍTICA\n",
      "25: TIPO DE APROX. (CABECEIRAS)\n"
     ]
    }
   ],
   "source": [
    "#Limpeza da base de AERODROMOS PUBLICOS (tirar as colunas indesejadas)\n",
    "\n",
    "pd.set_option('display.max_columns', None)\n",
    "\n",
    "caminho_arquivo = 'data/csv/pub.csv'  \n",
    "df = pd.read_csv(caminho_arquivo, encoding=\"utf-8\", sep=\";\", skiprows=1)\n",
    "\n",
    "colunas_para_excluir = ['OACI', 'REFERÊNCIA(S)', 'RAMPA(S) DE APROXIMAÇÃO', 'RESISTÊNCIA.3', 'SUPERFÍCIE.3','AIP BRASIL', 'p1','p2','p3','p4','FORMATO DA ÁREA DE POUSO', 'PORTARIAS','Unnamed: 36','Unnamed: 37','Unnamed: 38', 'r1', 'r2', 'r1.1', 'REFERÊNCIA', 'SITUAÇÃO', 'RESTRIÇÃO(ÕES)', 'OBSERVAÇÕES']\n",
    "df = df.drop(columns=colunas_para_excluir)\n",
    "\n",
    "indices_para_excluir = [30]  # Substitua pelos índices das colunas que deseja remover\n",
    "df = df.drop(df.columns[indices_para_excluir], axis=1)\n",
    "\n",
    "indices_para_excluir = [27]  # Substitua pelos índices das colunas que deseja remover\n",
    "df = df.drop(df.columns[indices_para_excluir], axis=1)\n",
    "\n",
    "indices_para_excluir = [26]  # Substitua pelos índices das colunas que deseja remover\n",
    "df = df.drop(df.columns[indices_para_excluir], axis=1)\n",
    "\n",
    "indices_para_excluir = [25]  # Substitua pelos índices das colunas que deseja remover\n",
    "df = df.drop(df.columns[indices_para_excluir], axis=1)\n",
    "\n",
    "indices_para_excluir = [24]  # Substitua pelos índices das colunas que deseja remover\n",
    "df = df.drop(df.columns[indices_para_excluir], axis=1)\n",
    "indices_para_excluir = [26]  # Substitua pelos índices das colunas que deseja remover\n",
    "df = df.drop(df.columns[indices_para_excluir], axis=1)\n",
    "\n",
    "for i, col in enumerate(df.columns):\n",
    "    print(f\"{i}: {col}\")\n"
   ]
  },
  {
   "cell_type": "code",
   "execution_count": 3,
   "metadata": {},
   "outputs": [
    {
     "name": "stdout",
     "output_type": "stream",
     "text": [
      "Index(['codigo_oaci', 'CIAD', 'NOME', 'municipio', 'UF', 'LATITUDE',\n",
      "       'LONGITUDE', 'ALTITUDE', 'OPERAÇÃO', 'DESIGNAÇÃO_Pista1',\n",
      "       'COMPRIMENTO_Pista1', 'LARGURA_Pista1', 'RESISTÊNCIA_Pista1',\n",
      "       'SUPERFÍCIE_Pista1', 'DESIGNAÇÃO_Pista2', 'COMPRIMENTO_Pista2',\n",
      "       'LARGURA_Pista2', 'RESISTÊNCIA_Pista2', 'SUPERFÍCIE_Pista2',\n",
      "       'DESIGNAÇÃO_Pista3', 'COMPRIMENTO_Pista3', 'LARGURA_Pista3',\n",
      "       'RESISTÊNCIA_Pista3', 'SUPERFÍCIE_Pista3', 'AERONAVE CRÍTICA',\n",
      "       'TIPO DE APROX. (CABECEIRAS)', 'classificacao'],\n",
      "      dtype='object')\n",
      "0: codigo_oaci\n",
      "1: CIAD\n",
      "2: NOME\n",
      "3: municipio\n",
      "4: UF\n",
      "5: LATITUDE\n",
      "6: LONGITUDE\n",
      "7: ALTITUDE\n",
      "8: OPERAÇÃO\n",
      "9: DESIGNAÇÃO_Pista1\n",
      "10: COMPRIMENTO_Pista1\n",
      "11: LARGURA_Pista1\n",
      "12: RESISTÊNCIA_Pista1\n",
      "13: SUPERFÍCIE_Pista1\n",
      "14: DESIGNAÇÃO_Pista2\n",
      "15: COMPRIMENTO_Pista2\n",
      "16: LARGURA_Pista2\n",
      "17: RESISTÊNCIA_Pista2\n",
      "18: SUPERFÍCIE_Pista2\n",
      "19: DESIGNAÇÃO_Pista3\n",
      "20: COMPRIMENTO_Pista3\n",
      "21: LARGURA_Pista3\n",
      "22: RESISTÊNCIA_Pista3\n",
      "23: SUPERFÍCIE_Pista3\n",
      "24: AERONAVE CRÍTICA\n",
      "25: TIPO DE APROX. (CABECEIRAS)\n",
      "26: classificacao\n"
     ]
    }
   ],
   "source": [
    " #Arrumando os nomes\n",
    "def rename_duplicate_columns(df):\n",
    "    new_columns = []\n",
    "    \n",
    "    # Lista das colunas que precisam do sufixo \"_Pista1\"\n",
    "    colunas_pista1 = {'DESIGNAÇÃO', 'COMPRIMENTO', 'LARGURA', 'RESISTÊNCIA', 'SUPERFÍCIE'}\n",
    "    \n",
    "    for col in df.columns:\n",
    "        if col in colunas_pista1:\n",
    "            new_columns.append(col + \"_Pista1\")  # Adiciona _Pista1 às colunas específicas\n",
    "        elif \".1\" in col:\n",
    "            new_columns.append(col.replace(\".1\", \"_Pista2\"))  # Substitui .1 por _Pista2\n",
    "        elif \".2\" in col:\n",
    "            new_columns.append(col.replace(\".2\", \"_Pista3\"))  # Substitui .2 por _Pista3\n",
    "        else:\n",
    "            new_columns.append(col)  # Mantém as colunas que não precisam de alteração\n",
    "\n",
    "    df.columns = new_columns\n",
    "    return df\n",
    "\n",
    "df = rename_duplicate_columns(df)\n",
    "\n",
    "df = df.rename(columns={\"MUNICÍPIO ATENDIDO\": \"municipio\"})\n",
    "df = df.rename(columns={\"CÓDIGO OACI\": \"codigo_oaci\"})\n",
    "df2 = df\n",
    "\n",
    "\n",
    "df2[\"classificacao\"] = \"publico\"\n",
    "\n",
    "print(df2.columns)\n",
    "for i, col in enumerate(df2.columns):\n",
    "    print(f\"{i}: {col}\")\n"
   ]
  },
  {
   "cell_type": "code",
   "execution_count": 4,
   "metadata": {},
   "outputs": [],
   "source": [
    "#lendo a segunda base AERODROMOS PRIVADOS \n",
    "\n",
    "priv = pd.read_csv('data/csv/priv.csv', sep=';', encoding='latin1', skiprows=1)  \n",
    "pd.set_option('display.max_columns', None)\n",
    "\n",
    "indices_para_excluir_priv = [20,21,22,23]  # Substitua conforme necessário\n",
    "colunas_para_excluir_por_indice = [priv.columns[i] for i in indices_para_excluir_priv if i < len(priv.columns)]\n",
    "priv = priv.drop(columns=colunas_para_excluir_por_indice)\n",
    "\n",
    "def rename_columns_priv(df):\n",
    "    df = df.rename(columns=lambda x: x.strip().replace(\" \", \"_\"))  # Remove espaços e substitui por _\n",
    "    df = df.rename(columns=lambda x: x.replace(\"1\", \"_Pista1\").replace(\"2\", \"_Pista2\"))  # Substitui 1 e 2\n",
    "    return df\n",
    "\n",
    "# Aplicar a função na base priv\n",
    "priv = rename_columns_priv(priv)\n",
    "\n",
    "priv[\"classificacao\"] = \"privado\"\n",
    "priv.columns = priv.columns.str.replace('__', '_', regex=True)\n",
    "priv2 = priv"
   ]
  },
  {
   "cell_type": "code",
   "execution_count": 5,
   "metadata": {},
   "outputs": [
    {
     "name": "stdout",
     "output_type": "stream",
     "text": [
      "0: Código_OACI\n",
      "1: CIAD\n",
      "2: Nome\n",
      "3: Município\n",
      "4: UF\n",
      "5: Longitude\n",
      "6: Latitude\n",
      "7: Altitude\n",
      "8: Designação_Pista1\n",
      "9: Comprimento_Pista1\n",
      "10: Largura_Pista1\n",
      "11: Resistência_Pista1\n",
      "12: Superfície_Pista1\n",
      "13: Designação_Pista2\n",
      "14: Comprimento_Pista2\n",
      "15: Largura_Pista2\n",
      "16: Resistência_Pista2\n",
      "17: Superfície_Pista2\n",
      "18: classificacao\n",
      "19: operacao\n"
     ]
    }
   ],
   "source": [
    "# Função para padronizar a coluna operação\n",
    "priv2[\"operacao\"] = priv2.apply(lambda x: f\"{x['Operação_Diurna']} Diurno e {x['Operação_Noturna']} Noturno\", axis=1)\n",
    "priv2 = priv2.drop(columns=[\"Operação_Diurna\", \"Operação_Noturna\"])\n",
    "\n",
    "for i, col in enumerate(priv2.columns):\n",
    "    print(f\"{i}: {col}\")\n",
    "\n",
    "   "
   ]
  },
  {
   "cell_type": "code",
   "execution_count": 6,
   "metadata": {},
   "outputs": [
    {
     "name": "stdout",
     "output_type": "stream",
     "text": [
      "Colunas de df2: ['codigo_oaci', 'ciad', 'nome', 'municipio', 'uf', 'latitude', 'longitude', 'altitude', 'operacao', 'designacao_pista1', 'comprimento_pista1', 'largura_pista1', 'resistencia_pista1', 'superficie_pista1', 'designacao_pista2', 'comprimento_pista2', 'largura_pista2', 'resistencia_pista2', 'superficie_pista2', 'designacao_pista3', 'comprimento_pista3', 'largura_pista3', 'resistencia_pista3', 'superficie_pista3', 'aeronave critica', 'tipo de aprox. (cabeceiras)', 'classificacao']\n",
      "Colunas de priv2: ['codigo_oaci', 'ciad', 'nome', 'municipio', 'uf', 'longitude', 'latitude', 'altitude', 'designacao_pista1', 'comprimento_pista1', 'largura_pista1', 'resistencia_pista1', 'superficie_pista1', 'designacao_pista2', 'comprimento_pista2', 'largura_pista2', 'resistencia_pista2', 'superficie_pista2', 'classificacao', 'operacao']\n",
      "Total de registros em df2: 505\n",
      "Total de registros em priv2: 3592\n",
      "Total de registros em aero_ANAC: 4097\n",
      "classificacao\n",
      "privado    3592\n",
      "publico     505\n",
      "Name: count, dtype: int64\n"
     ]
    }
   ],
   "source": [
    "#padronizar as bases \n",
    "\n",
    "# Padronizar os nomes das colunas (sem acentos e tudo em minúsculas)\n",
    "priv2.columns = [unidecode(col).lower() for col in priv2.columns]\n",
    "df2.columns = [unidecode(col).lower() for col in df2.columns]\n",
    "\n",
    "# Exibir os nomes das colunas para conferência\n",
    "print(\"Colunas de df2:\", df2.columns.to_list())\n",
    "print(\"Colunas de priv2:\", priv2.columns.to_list())\n",
    "\n",
    "# Juntar as bases\n",
    "aero_ANAC = pd.concat([df2, priv2], ignore_index=True).fillna(\"N/A\")\n",
    "\n",
    "# Conferir os totais de registros\n",
    "total_df2 = len(df2)\n",
    "total_priv2 = len(priv2)\n",
    "total_aero_ANAC = len(aero_ANAC)\n",
    "\n",
    "print(f\"Total de registros em df2: {total_df2}\")\n",
    "print(f\"Total de registros em priv2: {total_priv2}\")\n",
    "print(f\"Total de registros em aero_ANAC: {total_aero_ANAC}\")\n",
    "\n",
    "# Exibir a contagem de valores na coluna 'classificacao'\n",
    "if \"classificacao\" in aero_ANAC.columns:\n",
    "    print(aero_ANAC[\"classificacao\"].value_counts())\n",
    "else:\n",
    "    print(\"A coluna 'classificacao' não existe em aero_ANAC.\")"
   ]
  },
  {
   "cell_type": "code",
   "execution_count": 7,
   "metadata": {},
   "outputs": [
    {
     "name": "stdout",
     "output_type": "stream",
     "text": [
      "['codigo_oaci', 'ciad', 'nome', 'municipio', 'uf', 'latitude', 'longitude', 'altitude', 'operacao', 'designacao_pista1', 'comprimento_pista1', 'largura_pista1', 'resistencia_pista1', 'superficie_pista1', 'designacao_pista2', 'comprimento_pista2', 'largura_pista2', 'resistencia_pista2', 'superficie_pista2', 'designacao_pista3', 'comprimento_pista3', 'largura_pista3', 'resistencia_pista3', 'superficie_pista3', 'aeronave critica', 'tipo de aprox. (cabeceiras)', 'classificacao']\n",
      "['Código_OACI', 'CIAD', 'Nome', 'Município', 'UF', 'Longitude', 'Latitude', 'Altitude', 'Operação_Diurna', 'Operação_Noturna', 'Designação_Pista1', 'Comprimento_Pista1', 'Largura_Pista1', 'Resistência_Pista1', 'Superfície_Pista1', 'Designação_Pista2', 'Comprimento_Pista2', 'Largura_Pista2', 'Resistência_Pista2', 'Superfície_Pista2', 'classificacao', 'operacao']\n",
      "['codigo_oaci', 'ciad', 'nome', 'municipio', 'uf', 'latitude', 'longitude', 'altitude', 'operacao', 'designacao_pista1', 'comprimento_pista1', 'largura_pista1', 'resistencia_pista1', 'superficie_pista1', 'designacao_pista2', 'comprimento_pista2', 'largura_pista2', 'resistencia_pista2', 'superficie_pista2', 'designacao_pista3', 'comprimento_pista3', 'largura_pista3', 'resistencia_pista3', 'superficie_pista3', 'aeronave critica', 'tipo de aprox. (cabeceiras)', 'classificacao']\n",
      "Arquivo 'aero_ANAC.csv' salvo com sucesso!\n"
     ]
    }
   ],
   "source": [
    "# Lista de superfícies que devem ter a operação como \"VFR\"\n",
    "superficies_vfr = [\"Grama\", \"Terra\", \"Cascalho\", \"Piçarra\", \"Barro\", \"Areia\", \"Saibro\"]\n",
    "\n",
    "# Atualizar os valores da coluna \"Operacao\" para \"VFR\" quando qualquer pista for uma das superfícies listadas\n",
    "aero_ANAC.loc[\n",
    "    aero_ANAC[[\"superficie_pista1\", \"superficie_pista2\", \"superficie_pista3\"]].isin(superficies_vfr).any(axis=1),\n",
    "    \"operacao\"\n",
    "] = \"VFR\"\n",
    "\n",
    "print(df.columns.to_list())\n",
    "\n",
    "print(priv.columns.to_list())\n",
    "\n",
    "print(aero_ANAC.columns.to_list())\n",
    "\n",
    "# Salvar a base aero_ANAC como CSV\n",
    "aero_ANAC.to_csv(\"output/aero_ANAC.csv\", index=False, encoding=\"utf-8\")\n",
    "print(\"Arquivo 'aero_ANAC.csv' salvo com sucesso!\")"
   ]
  }
 ],
 "metadata": {
  "kernelspec": {
   "display_name": "Python 3",
   "language": "python",
   "name": "python3"
  },
  "language_info": {
   "codemirror_mode": {
    "name": "ipython",
    "version": 3
   },
   "file_extension": ".py",
   "mimetype": "text/x-python",
   "name": "python",
   "nbconvert_exporter": "python",
   "pygments_lexer": "ipython3",
   "version": "3.12.9"
  }
 },
 "nbformat": 4,
 "nbformat_minor": 2
}
