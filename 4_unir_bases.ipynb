{
 "cells": [
  {
   "cell_type": "code",
   "execution_count": 1,
   "metadata": {},
   "outputs": [
    {
     "name": "stdout",
     "output_type": "stream",
     "text": [
      "Requirement already satisfied: openpyxl in c:\\users\\julia\\appdata\\local\\programs\\python\\python312\\lib\\site-packages (3.1.5)\n",
      "Requirement already satisfied: et-xmlfile in c:\\users\\julia\\appdata\\local\\programs\\python\\python312\\lib\\site-packages (from openpyxl) (2.0.0)\n",
      "Note: you may need to restart the kernel to use updated packages.\n"
     ]
    },
    {
     "name": "stderr",
     "output_type": "stream",
     "text": [
      "\n",
      "[notice] A new release of pip is available: 24.3.1 -> 25.1.1\n",
      "[notice] To update, run: python.exe -m pip install --upgrade pip\n"
     ]
    }
   ],
   "source": [
    "import pandas as pd\n",
    "%pip install openpyxl\n",
    "import re\n",
    "\n"
   ]
  },
  {
   "cell_type": "code",
   "execution_count": 2,
   "metadata": {},
   "outputs": [
    {
     "name": "stdout",
     "output_type": "stream",
     "text": [
      "Total de registros em aero_ANAC_rotaer: 4097\n",
      "Arquivo 'aero_ANAC_rotaer.csv' salvo com sucesso!\n"
     ]
    }
   ],
   "source": [
    "#criar base de dados unindo a aero_ANAC com rotaer_final_3\n",
    "\n",
    "# Ler os arquivos CSV\n",
    "aero_ANAC = pd.read_csv(\"output/aero_ANAC.csv\", encoding=\"utf-8\")\n",
    "rotaer_final = pd.read_csv(\"output/base_rotaer_final.csv\", encoding=\"utf-8\")\n",
    "\n",
    "# Renomear a coluna 'codigo_aeroporto' para 'codigo_oaci' no rotaer_final_3\n",
    "rotaer_final.rename(columns={'codigo_aeroporto': 'codigo_oaci'}, inplace=True)\n",
    "\n",
    "# Realizar o merge (join) das bases mantendo todos os dados de aero_ANAC\n",
    "aero_ANAC_rotaer = aero_ANAC.merge(\n",
    "    rotaer_final[['codigo_oaci', 'Auxilios_Pares', 'Auxilios_Individuais', 'RFFS']],  # Apenas as colunas que serão adicionadas\n",
    "    on='codigo_oaci',\n",
    "    how='left'  # Mantém todos os registros de aero_ANAC, adicionando os dados de base_rotaer_final onde houver correspondência\n",
    ")\n",
    "\n",
    "# Substituir valores NaN por 'N/A' para manter a formatação\n",
    "aero_ANAC_rotaer.fillna(\"N/A\", inplace=True)\n",
    "\n",
    "# Exibir informações para conferência\n",
    "print(f\"Total de registros em aero_ANAC_rotaer: {len(aero_ANAC_rotaer)}\")\n",
    "\n",
    "\n",
    "# Salvar a base final corrigida\n",
    "aero_ANAC_rotaer.to_csv(\"data/csv/aero_ANAC_rotaer.csv\", index=False, encoding=\"utf-8\")\n",
    "print(\"Arquivo 'aero_ANAC_rotaer.csv' salvo com sucesso!\")\n",
    "\n",
    "\n"
   ]
  },
  {
   "cell_type": "code",
   "execution_count": 3,
   "metadata": {},
   "outputs": [],
   "source": [
    "#tirar _pista3\n",
    "\n",
    "# Identifica as colunas que terminam com '_pista3'\n",
    "colunas_para_excluir = [col for col in aero_ANAC_rotaer.columns if col.endswith('_pista3')]\n",
    "\n",
    "# Remove essas colunas do DataFrame\n",
    "aero_ANAC_rotaer = aero_ANAC_rotaer.drop(columns=colunas_para_excluir)\n"
   ]
  },
  {
   "cell_type": "code",
   "execution_count": 4,
   "metadata": {},
   "outputs": [],
   "source": [
    "#adicionar nova base \n",
    "AIDS = pd.read_excel(\"data/csv/AIDS_aero.xlsx\")"
   ]
  },
  {
   "cell_type": "code",
   "execution_count": 5,
   "metadata": {},
   "outputs": [],
   "source": [
    "# Garante que os códigos OACI estão como string\n",
    "AIDS['codigo_oaci'] = AIDS['codigo_oaci'].astype(str)\n",
    "aero_ANAC_rotaer['codigo_oaci'] = aero_ANAC_rotaer['codigo_oaci'].astype(str)\n",
    "\n",
    "# Cria uma cópia da base original\n",
    "aero_rotaer_com_aids = aero_ANAC_rotaer.copy()\n",
    "\n",
    "# Inicializa as colunas\n",
    "aero_rotaer_com_aids['AIDS_pista1'] = None\n",
    "aero_rotaer_com_aids['Aux_pista1'] = None\n",
    "aero_rotaer_com_aids['AIDS_pista2'] = None\n",
    "aero_rotaer_com_aids['Aux_pista2'] = None\n",
    "\n",
    "# Loop pelas linhas do DataFrame AIDS\n",
    "for _, row in AIDS.iterrows():\n",
    "    cod = row['codigo_oaci']\n",
    "    \n",
    "    # Lista de cabeceiras e suas respectivas colunas de auxílio e AIDS\n",
    "    entradas = [\n",
    "        (row['C1_pista1'], row['AUX1_pista1'], row['AIDS1_pista1'], 'pista1'),\n",
    "        (row['C2_pista1'], row['AUX2_pista1'], row['AIDS2_pista1'], 'pista1'),\n",
    "        (row['C1_pista2'], row['AUX1_pista2'], row['AIDS1_pista2'], 'pista2'),\n",
    "        (row['C2_pista2'], row['AUX2_pista2'], row['AIDS2_pista2'], 'pista2'),\n",
    "    ]\n",
    "    \n",
    "    for cab, aux, aids, pista in entradas:\n",
    "        if pd.isna(cab):\n",
    "            continue\n",
    "        \n",
    "        cab_str = str(cab).zfill(2)\n",
    "        aux_formatado = f\"{aux} {cab_str}\" if pd.notna(aux) else None\n",
    "        aids_formatado = f\"{aids} {cab_str}\" if pd.notna(aids) else None\n",
    "\n",
    "        # Encontrar linha correspondente no outro DataFrame\n",
    "        filtro = aero_rotaer_com_aids['codigo_oaci'] == cod\n",
    "        if filtro.any():\n",
    "            idx = aero_rotaer_com_aids[filtro].index[0]\n",
    "\n",
    "            designacao = str(aero_rotaer_com_aids.at[idx, f'designacao_{pista}'])\n",
    "            cabeceiras = [x.strip() for x in designacao.split('/')] if pd.notna(designacao) else []\n",
    "\n",
    "            if cab_str in cabeceiras:\n",
    "                # Preenche ou acumula valores\n",
    "                if aux_formatado:\n",
    "                    if aero_rotaer_com_aids.at[idx, f'Aux_{pista}']:\n",
    "                        aero_rotaer_com_aids.at[idx, f'Aux_{pista}'] += f\" / {aux_formatado}\"\n",
    "                    else:\n",
    "                        aero_rotaer_com_aids.at[idx, f'Aux_{pista}'] = aux_formatado\n",
    "\n",
    "                if aids_formatado:\n",
    "                    if aero_rotaer_com_aids.at[idx, f'AIDS_{pista}']:\n",
    "                        aero_rotaer_com_aids.at[idx, f'AIDS_{pista}'] += f\" / {aids_formatado}\"\n",
    "                    else:\n",
    "                        aero_rotaer_com_aids.at[idx, f'AIDS_{pista}'] = aids_formatado\n"
   ]
  },
  {
   "cell_type": "code",
   "execution_count": 6,
   "metadata": {},
   "outputs": [],
   "source": [
    "# Lista de todas as colunas atuais\n",
    "colunas = list(aero_rotaer_com_aids.columns)\n",
    "\n",
    "# Encontra as posições das colunas de designação\n",
    "idx_p1 = colunas.index('designacao_pista1')\n",
    "idx_p2 = colunas.index('designacao_pista2')\n",
    "\n",
    "# Remove as colunas novas temporariamente da lista original (se estiverem no fim)\n",
    "for c in ['AIDS_pista1', 'Aux_pista1', 'AIDS_pista2', 'Aux_pista2']:\n",
    "    if c in colunas:\n",
    "        colunas.remove(c)\n",
    "\n",
    "# Insere as colunas novas logo após suas respectivas pistas\n",
    "colunas.insert(idx_p1 + 1, 'AIDS_pista1')\n",
    "colunas.insert(idx_p1 + 2, 'Aux_pista1')\n",
    "colunas.insert(idx_p2 + 3, 'AIDS_pista2')  # +3 porque já inserimos 2 antes\n",
    "colunas.insert(idx_p2 + 4, 'Aux_pista2')\n",
    "\n",
    "# Reorganiza o DataFrame com as colunas na ordem desejada\n",
    "aero_rotaer_com_aids = aero_rotaer_com_aids[colunas]\n"
   ]
  },
  {
   "cell_type": "code",
   "execution_count": 7,
   "metadata": {},
   "outputs": [
    {
     "name": "stderr",
     "output_type": "stream",
     "text": [
      "C:\\Users\\julia\\AppData\\Local\\Temp\\ipykernel_26408\\399411891.py:23: FutureWarning: DataFrame.applymap has been deprecated. Use DataFrame.map instead.\n",
      "  aero_rotaer_com_aids = aero_rotaer_com_aids.applymap(limpar_celula)\n"
     ]
    }
   ],
   "source": [
    "\n",
    "# Substitui NaN real\n",
    "aero_rotaer_com_aids.fillna('-', inplace=True)\n",
    "\n",
    "# Função para limpar strings com \"nan\", \"nan 13\", \"N/A\", etc.\n",
    "def limpar_celula(valor):\n",
    "    if isinstance(valor, str):\n",
    "        # Remove qualquer ocorrência de \"nan\", \"nan 13\", \"N/A\", etc. (case-insensitive)\n",
    "        valor_limpo = re.sub(r'(?i)nan\\s*\\d*', '', valor)\n",
    "        valor_limpo = re.sub(r'(?i)n/?a|missing value', '', valor_limpo)\n",
    "\n",
    "        # Remove barras duplicadas, espaços extras e deixa limpo\n",
    "        valor_limpo = re.sub(r'\\s*/\\s*', ' / ', valor_limpo)  # normaliza barra\n",
    "        valor_limpo = re.sub(r'\\s+', ' ', valor_limpo).strip()  # tira espaços duplicados\n",
    "        valor_limpo = re.sub(r'^/|/$', '', valor_limpo)  # remove barra no começo/fim\n",
    "\n",
    "        return valor_limpo if valor_limpo else '-'\n",
    "    elif pd.isna(valor):\n",
    "        return '-'\n",
    "    else:\n",
    "        return valor\n",
    "\n",
    "# Aplica a limpeza em todo o DataFrame\n",
    "aero_rotaer_com_aids = aero_rotaer_com_aids.applymap(limpar_celula)\n",
    "\n"
   ]
  },
  {
   "cell_type": "code",
   "execution_count": 8,
   "metadata": {},
   "outputs": [],
   "source": [
    "\n",
    "aero_rotaer_com_aids.to_csv('output/aerodromos_BR_final.csv', index=False, encoding='utf-8')"
   ]
  }
 ],
 "metadata": {
  "kernelspec": {
   "display_name": "Python 3",
   "language": "python",
   "name": "python3"
  },
  "language_info": {
   "codemirror_mode": {
    "name": "ipython",
    "version": 3
   },
   "file_extension": ".py",
   "mimetype": "text/x-python",
   "name": "python",
   "nbconvert_exporter": "python",
   "pygments_lexer": "ipython3",
   "version": "3.12.9"
  }
 },
 "nbformat": 4,
 "nbformat_minor": 2
}
